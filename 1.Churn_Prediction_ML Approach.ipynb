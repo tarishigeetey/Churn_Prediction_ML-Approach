{
 "cells": [
  {
   "cell_type": "markdown",
   "metadata": {},
   "source": [
    "![image](https://github.com/IBM/watson-machine-learning-samples/raw/master/cloud/notebooks/headers/AutoAI-Banner_Pipeline-Notebook.png)\n",
    "# Pipeline 3 Notebook - AutoAI Notebook v1.15.5\n",
    "\n",
    "Consider these tips for working with an auto-generated notebook:\n",
    "- Notebook code generated using AutoAI will execute successfully. If you modify the notebook, we cannot guarantee it will run successfully.\n",
    "- This pipeline is optimized for the original data set. The pipeline might fail or produce sub-optimum results if used with different data.  If you want to use a different data set, consider retraining the AutoAI experiment to generate a new pipeline. For more information, see <a href=\"https://dataplatform.cloud.ibm.com/docs/content/wsj/analyze-data/autoai-notebook.html\">Cloud Platform</a> \n",
    "- Before modifying the pipeline or trying to re-fit the pipeline, consider that the code converts dataframes to numpy arrays before fitting the pipeline (a current restriction of the preprocessor pipeline).\n"
   ]
  },
  {
   "cell_type": "markdown",
   "metadata": {},
   "source": [
    "<a id=\"content\"></a>\n",
    "## Notebook content\n",
    "\n",
    "This notebook contains a Scikit-learn representation of AutoAI pipeline. This notebook introduces commands for getting data, training the model, and testing the model. \n",
    "\n",
    "Some familiarity with Python is helpful. This notebook uses Python 3.7 and scikit-learn 0.23.2."
   ]
  },
  {
   "cell_type": "markdown",
   "metadata": {
    "pycharm": {
     "name": "#%% md\n"
    }
   },
   "source": [
    "## Notebook goals\n",
    "\n",
    "-  Scikit-learn pipeline definition\n",
    "-  Pipeline training \n",
    "-  Pipeline evaluation\n",
    "\n",
    "## Contents\n",
    "\n",
    "This notebook contains the following parts:\n",
    "\n",
    "**[Setup](#setup)**<br>\n",
    "&nbsp;&nbsp;[Package installation](#install)<br>\n",
    "&nbsp;&nbsp;[AutoAI experiment metadata](#variables_definition)<br>\n",
    "**[Pipeline inspection](#inspection)** <br>\n",
    "&nbsp;&nbsp;[Read training data](#read)<br>\n",
    "&nbsp;&nbsp;[Train and test data split](#split)<br>\n",
    "&nbsp;&nbsp;[Make pipeline](#preview_model_to_python_code)<br>\n",
    "&nbsp;&nbsp;[Train pipeline model](#train)<br>\n",
    "&nbsp;&nbsp;[Test pipeline model](#test_model)<br>\n",
    "**[Next steps](#next_steps)**<br>\n",
    "**[Copyrights](#copyrights)**"
   ]
  },
  {
   "cell_type": "markdown",
   "metadata": {},
   "source": [
    "<a id=\"setup\"></a>\n",
    "# Setup"
   ]
  },
  {
   "cell_type": "markdown",
   "metadata": {},
   "source": [
    "<a id=\"install\"></a>\n",
    "## Package installation\n",
    "Before you use the sample code in this notebook, install the following packages:\n",
    " - ibm_watson_machine_learning,\n",
    " - autoai-libs,\n",
    " - scikit-learn,\n",
    " - snapml.\n"
   ]
  },
  {
   "cell_type": "code",
   "execution_count": null,
   "metadata": {
    "execution": {
     "iopub.execute_input": "2020-10-12T14:00:45.009458Z",
     "iopub.status.busy": "2020-10-12T14:00:45.007968Z",
     "iopub.status.idle": "2020-10-12T14:00:46.037702Z",
     "shell.execute_reply": "2020-10-12T14:00:46.038270Z"
    },
    "pycharm": {
     "name": "#%%\n"
    },
    "scrolled": true
   },
   "outputs": [],
   "source": [
    "!pip install ibm-watson-machine-learning | tail -n 1\n",
    "!pip install -U autoai-libs==1.12.13 | tail -n 1\n",
    "!pip install -U scikit-learn==0.23.2 | tail -n 1\n",
    "!pip install -U snapml==1.7.4 | tail -n 1"
   ]
  },
  {
   "cell_type": "markdown",
   "metadata": {},
   "source": [
    "<a id=\"variables_definition\"></a>\n",
    "## AutoAI experiment metadata\n",
    "The following cell contains the training data connection details.  \n",
    "**Note**: The connection might contain authorization credentials, so be careful when sharing the notebook."
   ]
  },
  {
   "cell_type": "code",
   "execution_count": null,
   "metadata": {
    "execution": {
     "iopub.execute_input": "2020-10-12T14:00:49.797633Z",
     "iopub.status.busy": "2020-10-12T14:00:49.796778Z",
     "iopub.status.idle": "2020-10-12T14:00:57.182715Z",
     "shell.execute_reply": "2020-10-12T14:00:57.183132Z"
    },
    "pycharm": {
     "is_executing": true
    }
   },
   "outputs": [],
   "source": [
    "from ibm_watson_machine_learning.helpers import DataConnection\n",
    "from ibm_watson_machine_learning.helpers import S3Connection, S3Location\n",
    "\n",
    "training_data_reference = [\n",
    "    DataConnection(\n",
    "    connection=S3Connection(\n",
    "        api_key='y-jmAbgDB7DOc_7ZemGXOI63fPpPzJwOzu5krOZC5ESi',\n",
    "        auth_endpoint='https://iam.bluemix.net/oidc/token/',\n",
    "        endpoint_url='https://s3.us.cloud-object-storage.appdomain.cloud'\n",
    "    ),\n",
    "        location=S3Location(\n",
    "            bucket='telcocustomerchurnautoai-donotdelete-pr-z6dte4m9cbfjyx',\n",
    "            path='dataset_churn.csv'\n",
    "        )\n",
    "    ),\n",
    "]\n",
    "training_result_reference = DataConnection(\n",
    "    connection=S3Connection(\n",
    "        api_key='y-jmAbgDB7DOc_7ZemGXOI63fPpPzJwOzu5krOZC5ESi',\n",
    "        auth_endpoint='https://iam.bluemix.net/oidc/token/',\n",
    "        endpoint_url='https://s3.us.cloud-object-storage.appdomain.cloud'\n",
    "    ),\n",
    "    location=S3Location(\n",
    "        bucket='telcocustomerchurnautoai-donotdelete-pr-z6dte4m9cbfjyx',\n",
    "        path='auto_ml/a141fc07-791c-4e4e-86b2-3335c2532946/wml_data/2b8750dd-c07a-450c-b4f7-e5024d2e5a19/data/automl',\n",
    "        model_location='auto_ml/a141fc07-791c-4e4e-86b2-3335c2532946/wml_data/2b8750dd-c07a-450c-b4f7-e5024d2e5a19/data/automl/cognito_output/Pipeline1/model.pickle',\n",
    "        training_status='auto_ml/a141fc07-791c-4e4e-86b2-3335c2532946/wml_data/2b8750dd-c07a-450c-b4f7-e5024d2e5a19/training-status.json'\n",
    "    )\n",
    ")"
   ]
  },
  {
   "cell_type": "markdown",
   "metadata": {},
   "source": [
    "Following cell contains input parameters provided to run the AutoAI experiment in Watson Studio."
   ]
  },
  {
   "cell_type": "code",
   "execution_count": null,
   "metadata": {
    "execution": {
     "iopub.execute_input": "2020-10-12T14:00:57.187305Z",
     "iopub.status.busy": "2020-10-12T14:00:57.186602Z",
     "iopub.status.idle": "2020-10-12T14:00:57.188392Z",
     "shell.execute_reply": "2020-10-12T14:00:57.188878Z"
    },
    "pycharm": {
     "name": "#%%\n"
    }
   },
   "outputs": [],
   "source": [
    "experiment_metadata = dict(\n",
    "    prediction_type='binary',\n",
    "    prediction_column='Churn',\n",
    "    holdout_size=0.1,\n",
    "    scoring='accuracy',\n",
    "    csv_separator=',',\n",
    "    random_state=33,\n",
    "    max_number_of_estimators=2,\n",
    "    training_data_reference=training_data_reference,\n",
    "    training_result_reference=training_result_reference,\n",
    "    deployment_url='https://us-south.ml.cloud.ibm.com',\n",
    "    project_id='43043ad9-c740-4435-9e5e-8891ed1f5e50',\n",
    "    positive_label='Yes',\n",
    "    drop_duplicates=True\n",
    ")"
   ]
  },
  {
   "cell_type": "markdown",
   "metadata": {},
   "source": [
    "## Set `n_jobs` parameter to the number of available CPUs"
   ]
  },
  {
   "cell_type": "code",
   "execution_count": null,
   "metadata": {},
   "outputs": [],
   "source": [
    "import os, ast\n",
    "CPU_NUMBER = 2\n",
    "if 'RUNTIME_HARDWARE_SPEC' in os.environ:\n",
    "    CPU_NUMBER = int(ast.literal_eval(os.environ['RUNTIME_HARDWARE_SPEC'])['num_cpu'])"
   ]
  },
  {
   "cell_type": "markdown",
   "metadata": {},
   "source": [
    "<a id=\"inspection\"></a>\n",
    "# Pipeline inspection"
   ]
  },
  {
   "cell_type": "markdown",
   "metadata": {
    "pycharm": {
     "name": "#%% md\n"
    }
   },
   "source": [
    "<a id=\"read\"></a>\n",
    "## Read training data\n",
    "\n",
    "Retrieve training dataset from AutoAI experiment as pandas DataFrame.\n",
    "\n",
    "**Note**: If reading data results in an error, provide data as Pandas DataFrame object, for example, reading .CSV file with `pandas.read_csv()`"
   ]
  },
  {
   "cell_type": "code",
   "execution_count": null,
   "metadata": {
    "execution": {
     "iopub.execute_input": "2020-10-12T14:01:16.076169Z",
     "iopub.status.busy": "2020-10-12T14:01:16.075589Z",
     "iopub.status.idle": "2020-10-12T14:01:19.190233Z",
     "shell.execute_reply": "2020-10-12T14:01:19.190807Z"
    },
    "pycharm": {
     "is_executing": true,
     "name": "#%%\n"
    }
   },
   "outputs": [],
   "source": [
    "df = training_data_reference[0].read(experiment_metadata=experiment_metadata)\n",
    "df.dropna('rows', how='any', subset=[experiment_metadata['prediction_column']], inplace=True)"
   ]
  },
  {
   "cell_type": "markdown",
   "metadata": {},
   "source": [
    "<a id=\"split\"></a>\n",
    "##  Train and test data split"
   ]
  },
  {
   "cell_type": "code",
   "execution_count": null,
   "metadata": {
    "pycharm": {
     "is_executing": true
    }
   },
   "outputs": [],
   "source": [
    "from sklearn.model_selection import train_test_split\n",
    "\n",
    "df.drop_duplicates(inplace=True)\n",
    "X = df.drop([experiment_metadata['prediction_column']], axis=1).values\n",
    "y = df[experiment_metadata['prediction_column']].values\n",
    "\n",
    "train_X, test_X, train_y, test_y = train_test_split(X, y, test_size=experiment_metadata['holdout_size'],\n",
    "                                                    stratify=y, random_state=experiment_metadata['random_state'])"
   ]
  },
  {
   "cell_type": "markdown",
   "metadata": {
    "pycharm": {
     "name": "#%% md\n"
    }
   },
   "source": [
    "<a id=\"preview_model_to_python_code\"></a>\n",
    "## Make pipeline\n",
    "In the next cell, you can find the Scikit-learn definition of the selected AutoAI pipeline."
   ]
  },
  {
   "cell_type": "markdown",
   "metadata": {},
   "source": [
    "#### Import statements."
   ]
  },
  {
   "cell_type": "code",
   "execution_count": null,
   "metadata": {
    "pycharm": {
     "is_executing": true,
     "name": "#%%\n"
    }
   },
   "outputs": [],
   "source": [
    "from autoai_libs.transformers.exportable import ColumnSelector\n",
    "from autoai_libs.transformers.exportable import NumpyColumnSelector\n",
    "from autoai_libs.transformers.exportable import CompressStrings\n",
    "from autoai_libs.transformers.exportable import NumpyReplaceMissingValues\n",
    "from autoai_libs.transformers.exportable import NumpyReplaceUnknownValues\n",
    "from autoai_libs.transformers.exportable import boolean2float\n",
    "from autoai_libs.transformers.exportable import CatImputer\n",
    "from autoai_libs.transformers.exportable import CatEncoder\n",
    "import numpy as np\n",
    "from autoai_libs.transformers.exportable import float32_transform\n",
    "from sklearn.pipeline import make_pipeline\n",
    "from autoai_libs.transformers.exportable import FloatStr2Float\n",
    "from autoai_libs.transformers.exportable import NumImputer\n",
    "from autoai_libs.transformers.exportable import OptStandardScaler\n",
    "from sklearn.pipeline import make_union\n",
    "from autoai_libs.transformers.exportable import NumpyPermuteArray\n",
    "from autoai_libs.cognito.transforms.transform_utils import TAM\n",
    "from sklearn.decomposition import PCA\n",
    "from autoai_libs.cognito.transforms.transform_utils import FS1\n",
    "import autoai_libs.cognito.transforms.transform_extras\n",
    "from snapml import SnapRandomForestClassifier"
   ]
  },
  {
   "cell_type": "markdown",
   "metadata": {},
   "source": [
    "#### Pre-processing & Estimator."
   ]
  },
  {
   "cell_type": "code",
   "execution_count": null,
   "metadata": {
    "pycharm": {
     "is_executing": true,
     "name": "#%%\n"
    }
   },
   "outputs": [],
   "source": [
    "column_selector_0 = ColumnSelector(\n",
    "    columns_indices_list=[\n",
    "        1, 2, 3, 4, 5, 6, 7, 8, 9, 10, 11, 12, 13, 14, 15, 16, 17, 18, 19,\n",
    "    ]\n",
    ")\n",
    "numpy_column_selector_0 = NumpyColumnSelector(\n",
    "    columns=[0, 1, 2, 3, 4, 5, 6, 7, 8, 9, 10, 11, 12, 13, 14, 15, 16]\n",
    ")\n",
    "compress_strings = CompressStrings(\n",
    "    compress_type=\"hash\",\n",
    "    dtypes_list=[\n",
    "        \"char_str\", \"int_num\", \"char_str\", \"char_str\", \"int_num\", \"char_str\",\n",
    "        \"char_str\", \"char_str\", \"char_str\", \"char_str\", \"char_str\",\n",
    "        \"char_str\", \"char_str\", \"char_str\", \"char_str\", \"char_str\",\n",
    "        \"char_str\",\n",
    "    ],\n",
    "    missing_values_reference_list=[\"\", \"-\", \"?\", float(\"nan\")],\n",
    "    misslist_list=[\n",
    "        [], [], [], [], [], [], [], [], [], [], [], [], [], [], [], [], [],\n",
    "    ],\n",
    ")\n",
    "numpy_replace_missing_values_0 = NumpyReplaceMissingValues(\n",
    "    missing_values=[], filling_values=float(\"nan\")\n",
    ")\n",
    "numpy_replace_unknown_values = NumpyReplaceUnknownValues(\n",
    "    filling_values=float(\"nan\"),\n",
    "    filling_values_list=[\n",
    "        float(\"nan\"), float(\"nan\"), float(\"nan\"), float(\"nan\"), float(\"nan\"),\n",
    "        float(\"nan\"), float(\"nan\"), float(\"nan\"), float(\"nan\"), float(\"nan\"),\n",
    "        float(\"nan\"), float(\"nan\"), float(\"nan\"), float(\"nan\"), float(\"nan\"),\n",
    "        float(\"nan\"), float(\"nan\"),\n",
    "    ],\n",
    "    missing_values_reference_list=[\"\", \"-\", \"?\", float(\"nan\")],\n",
    ")\n",
    "cat_imputer = CatImputer(\n",
    "    strategy=\"most_frequent\",\n",
    "    missing_values=float(\"nan\"),\n",
    "    sklearn_version_family=\"23\",\n",
    ")\n",
    "cat_encoder = CatEncoder(\n",
    "    encoding=\"ordinal\",\n",
    "    categories=\"auto\",\n",
    "    dtype=np.float64,\n",
    "    handle_unknown=\"error\",\n",
    "    sklearn_version_family=\"23\",\n",
    ")\n",
    "pipeline_0 = make_pipeline(\n",
    "    column_selector_0,\n",
    "    numpy_column_selector_0,\n",
    "    compress_strings,\n",
    "    numpy_replace_missing_values_0,\n",
    "    numpy_replace_unknown_values,\n",
    "    boolean2float(),\n",
    "    cat_imputer,\n",
    "    cat_encoder,\n",
    "    float32_transform(),\n",
    ")\n",
    "column_selector_1 = ColumnSelector(\n",
    "    columns_indices_list=[\n",
    "        1, 2, 3, 4, 5, 6, 7, 8, 9, 10, 11, 12, 13, 14, 15, 16, 17, 18, 19,\n",
    "    ]\n",
    ")\n",
    "numpy_column_selector_1 = NumpyColumnSelector(columns=[17, 18])\n",
    "float_str2_float = FloatStr2Float(\n",
    "    dtypes_list=[\"float_num\", \"float_str\"],\n",
    "    missing_values_reference_list=[\" \"],\n",
    ")\n",
    "numpy_replace_missing_values_1 = NumpyReplaceMissingValues(\n",
    "    missing_values=[\" \"], filling_values=float(\"nan\")\n",
    ")\n",
    "num_imputer = NumImputer(strategy=\"median\", missing_values=float(\"nan\"))\n",
    "opt_standard_scaler = OptStandardScaler(\n",
    "    num_scaler_copy=None,\n",
    "    num_scaler_with_mean=None,\n",
    "    num_scaler_with_std=None,\n",
    "    use_scaler_flag=False,\n",
    ")\n",
    "pipeline_1 = make_pipeline(\n",
    "    column_selector_1,\n",
    "    numpy_column_selector_1,\n",
    "    float_str2_float,\n",
    "    numpy_replace_missing_values_1,\n",
    "    num_imputer,\n",
    "    opt_standard_scaler,\n",
    "    float32_transform(),\n",
    ")\n",
    "union = make_union(pipeline_0, pipeline_1)\n",
    "numpy_permute_array = NumpyPermuteArray(\n",
    "    axis=0,\n",
    "    permutation_indices=[\n",
    "        0, 1, 2, 3, 4, 5, 6, 7, 8, 9, 10, 11, 12, 13, 14, 15, 16, 17, 18,\n",
    "    ],\n",
    ")\n",
    "tam_0 = TAM(\n",
    "    tans_class=PCA(),\n",
    "    name=\"pca\",\n",
    "    col_names=[\n",
    "        \"gender\", \"SeniorCitizen\", \"Partner\", \"Dependents\", \"tenure\",\n",
    "        \"PhoneService\", \"MultipleLines\", \"InternetService\", \"OnlineSecurity\",\n",
    "        \"OnlineBackup\", \"DeviceProtection\", \"TechSupport\", \"StreamingTV\",\n",
    "        \"StreamingMovies\", \"Contract\", \"PaperlessBilling\", \"PaymentMethod\",\n",
    "        \"MonthlyCharges\", \"TotalCharges\",\n",
    "    ],\n",
    "    col_dtypes=[\n",
    "        np.dtype(\"float32\"), np.dtype(\"float32\"), np.dtype(\"float32\"),\n",
    "        np.dtype(\"float32\"), np.dtype(\"float32\"), np.dtype(\"float32\"),\n",
    "        np.dtype(\"float32\"), np.dtype(\"float32\"), np.dtype(\"float32\"),\n",
    "        np.dtype(\"float32\"), np.dtype(\"float32\"), np.dtype(\"float32\"),\n",
    "        np.dtype(\"float32\"), np.dtype(\"float32\"), np.dtype(\"float32\"),\n",
    "        np.dtype(\"float32\"), np.dtype(\"float32\"), np.dtype(\"float32\"),\n",
    "        np.dtype(\"float32\"),\n",
    "    ],\n",
    ")\n",
    "fs1_0 = FS1(\n",
    "    cols_ids_must_keep=range(0, 19),\n",
    "    additional_col_count_to_keep=15,\n",
    "    ptype=\"classification\",\n",
    ")\n",
    "tam_1 = TAM(\n",
    "    tans_class=autoai_libs.cognito.transforms.transform_extras.IsolationForestAnomaly,\n",
    "    name=\"isoforestanomaly\",\n",
    "    col_names=[\n",
    "        \"gender\", \"SeniorCitizen\", \"Partner\", \"Dependents\", \"tenure\",\n",
    "        \"PhoneService\", \"MultipleLines\", \"InternetService\", \"OnlineSecurity\",\n",
    "        \"OnlineBackup\", \"DeviceProtection\", \"TechSupport\", \"StreamingTV\",\n",
    "        \"StreamingMovies\", \"Contract\", \"PaperlessBilling\", \"PaymentMethod\",\n",
    "        \"MonthlyCharges\", \"TotalCharges\", \"pca_0\", \"pca_1\", \"pca_2\", \"pca_3\",\n",
    "        \"pca_4\", \"pca_5\", \"pca_6\", \"pca_8\", \"pca_9\", \"pca_10\", \"pca_11\",\n",
    "        \"pca_14\", \"pca_15\", \"pca_17\", \"pca_18\",\n",
    "    ],\n",
    "    col_dtypes=[\n",
    "        np.dtype(\"float32\"), np.dtype(\"float32\"), np.dtype(\"float32\"),\n",
    "        np.dtype(\"float32\"), np.dtype(\"float32\"), np.dtype(\"float32\"),\n",
    "        np.dtype(\"float32\"), np.dtype(\"float32\"), np.dtype(\"float32\"),\n",
    "        np.dtype(\"float32\"), np.dtype(\"float32\"), np.dtype(\"float32\"),\n",
    "        np.dtype(\"float32\"), np.dtype(\"float32\"), np.dtype(\"float32\"),\n",
    "        np.dtype(\"float32\"), np.dtype(\"float32\"), np.dtype(\"float32\"),\n",
    "        np.dtype(\"float32\"), np.dtype(\"float32\"), np.dtype(\"float32\"),\n",
    "        np.dtype(\"float32\"), np.dtype(\"float32\"), np.dtype(\"float32\"),\n",
    "        np.dtype(\"float32\"), np.dtype(\"float32\"), np.dtype(\"float32\"),\n",
    "        np.dtype(\"float32\"), np.dtype(\"float32\"), np.dtype(\"float32\"),\n",
    "        np.dtype(\"float32\"), np.dtype(\"float32\"), np.dtype(\"float32\"),\n",
    "        np.dtype(\"float32\"),\n",
    "    ],\n",
    ")\n",
    "fs1_1 = FS1(\n",
    "    cols_ids_must_keep=range(0, 19),\n",
    "    additional_col_count_to_keep=15,\n",
    "    ptype=\"classification\",\n",
    ")\n",
    "snap_random_forest_classifier = SnapRandomForestClassifier(\n",
    "    gpu_ids=np.array([0], dtype=np.uint32),\n",
    "    max_depth=3,\n",
    "    max_features=0.18999354704714785,\n",
    "    n_estimators=13,\n",
    "    n_jobs=CPU_NUMBER,\n",
    "    random_state=33,\n",
    ")\n"
   ]
  },
  {
   "cell_type": "markdown",
   "metadata": {},
   "source": [
    "#### Pipeline."
   ]
  },
  {
   "cell_type": "code",
   "execution_count": null,
   "metadata": {
    "pycharm": {
     "is_executing": true,
     "name": "#%%\n"
    }
   },
   "outputs": [],
   "source": [
    "pipeline = make_pipeline(\n",
    "    union,\n",
    "    numpy_permute_array,\n",
    "    tam_0,\n",
    "    fs1_0,\n",
    "    tam_1,\n",
    "    fs1_1,\n",
    "    snap_random_forest_classifier,\n",
    ")"
   ]
  },
  {
   "cell_type": "markdown",
   "metadata": {},
   "source": [
    "<a id=\"train\"></a>\n",
    "## Train pipeline model\n"
   ]
  },
  {
   "cell_type": "markdown",
   "metadata": {},
   "source": [
    "### Define scorer from the optimization metric\n",
    "This cell constructs the cell scorer based on the experiment metadata."
   ]
  },
  {
   "cell_type": "code",
   "execution_count": null,
   "metadata": {
    "pycharm": {
     "is_executing": true
    }
   },
   "outputs": [],
   "source": [
    "from sklearn.metrics import get_scorer\n",
    "\n",
    "scorer = get_scorer(experiment_metadata['scoring'])"
   ]
  },
  {
   "cell_type": "markdown",
   "metadata": {
    "pycharm": {
     "name": "#%% md\n"
    }
   },
   "source": [
    "<a id=\"test_model\"></a>\n",
    "### Fit pipeline model\n",
    "In this cell, the pipeline is fitted."
   ]
  },
  {
   "cell_type": "code",
   "execution_count": null,
   "metadata": {
    "execution": {
     "iopub.execute_input": "2020-10-12T14:01:19.291734Z",
     "iopub.status.busy": "2020-10-12T14:01:19.244735Z",
     "iopub.status.idle": "2020-10-12T14:01:19.338461Z",
     "shell.execute_reply": "2020-10-12T14:01:19.338958Z"
    },
    "pycharm": {
     "is_executing": true,
     "name": "#%%\n"
    },
    "scrolled": true
   },
   "outputs": [],
   "source": [
    "pipeline.fit(train_X,train_y)"
   ]
  },
  {
   "cell_type": "markdown",
   "metadata": {},
   "source": [
    "<a id=\"test_model\"></a>\n",
    "## Test pipeline model"
   ]
  },
  {
   "cell_type": "markdown",
   "metadata": {},
   "source": [
    "Score the fitted pipeline with the generated scorer using the holdout dataset."
   ]
  },
  {
   "cell_type": "code",
   "execution_count": null,
   "metadata": {
    "execution": {
     "iopub.execute_input": "2020-10-12T14:02:03.910267Z",
     "iopub.status.busy": "2020-10-12T14:02:03.909710Z",
     "iopub.status.idle": "2020-10-12T14:02:03.914154Z",
     "shell.execute_reply": "2020-10-12T14:02:03.914727Z"
    },
    "pycharm": {
     "is_executing": true,
     "name": "#%%\n"
    }
   },
   "outputs": [],
   "source": [
    "score = scorer(pipeline, test_X, test_y)\n",
    "print(score)"
   ]
  },
  {
   "cell_type": "markdown",
   "metadata": {},
   "source": [
    "### Calling the `predict` method\n",
    "If you want to get a prediction using pipeline model object, call `pipeline.predict()`.\n",
    "\n",
    "**Note:** If you want to work with pure sklearn model:\n",
    " - add the following parameter to `get_pipeline` call: `astype='sklearn'`,\n",
    " - or `scikit_learn_pipeline = pipeline.export_to_sklearn_pipeline()`"
   ]
  },
  {
   "cell_type": "code",
   "execution_count": null,
   "metadata": {},
   "outputs": [],
   "source": [
    "pipeline.predict(test_X)"
   ]
  },
  {
   "cell_type": "markdown",
   "metadata": {},
   "source": [
    "<a id=\"next_steps\"></a>\n",
    "# Next steps\n",
    "\n",
    "#### [Model deployment as webservice](https://github.com/IBM/watson-machine-learning-samples/tree/master/cloud/notebooks/python_sdk/deployments/autoai)\n",
    "#### [Run AutoAI experiment with python SDK](https://github.com/IBM/watson-machine-learning-samples/tree/master/cloud/notebooks/python_sdk/experiments/autoai)  "
   ]
  },
  {
   "cell_type": "markdown",
   "metadata": {
    "pycharm": {
     "name": "#%% md\n"
    }
   },
   "source": [
    "<a id=\"copyrights\"></a>\n",
    "### Copyrights\n",
    "\n",
    "Licensed Materials - Copyright © 2021 IBM. This notebook and its source code are released under the terms of the ILAN License. Use, duplication disclosure restricted by GSA ADP Schedule Contract with IBM Corp.\n",
    "\n",
    "**Note:** The auto-generated notebooks are subject to the International License Agreement for Non-Warranted Programs (or equivalent) and License Information document for Watson Studio Auto-generated Notebook (License Terms), such agreements located in the link below. Specifically, the Source Components and Sample Materials clause included in the License Information document for Watson Studio Auto-generated Notebook applies to the auto-generated notebooks.  \n",
    "\n",
    "By downloading, copying, accessing, or otherwise using the materials, you agree to the <a href=\"http://www14.software.ibm.com/cgi-bin/weblap/lap.pl?li_formnum=L-AMCU-BYC7LF\">License Terms</a>\n",
    "\n",
    "___"
   ]
  }
 ],
 "metadata": {
  "kernelspec": {
   "display_name": "Python 3",
   "language": "python",
   "name": "python3"
  },
  "language_info": {
   "codemirror_mode": {
    "name": "ipython",
    "version": 3
   },
   "file_extension": ".py",
   "mimetype": "text/x-python",
   "name": "python",
   "nbconvert_exporter": "python",
   "pygments_lexer": "ipython3",
   "version": "3.8.10"
  }
 },
 "nbformat": 4,
 "nbformat_minor": 2
}
